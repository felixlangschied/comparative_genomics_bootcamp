{
 "cells": [
  {
   "cell_type": "code",
   "execution_count": null,
   "id": "1d71f1c8-42fc-47ff-979c-aa047d90252e",
   "metadata": {},
   "outputs": [],
   "source": []
  },
  {
   "cell_type": "code",
   "execution_count": null,
   "id": "d9e34359-5aab-4116-a856-e4af3a6b2894",
   "metadata": {},
   "outputs": [],
   "source": []
  },
  {
   "cell_type": "markdown",
   "id": "e66b4e26-d9ba-4c1b-bafb-33ab0a0405a2",
   "metadata": {},
   "source": [
    "## Snakemake"
   ]
  },
  {
   "cell_type": "code",
   "execution_count": null,
   "id": "9d96a0c7-7bbc-4b25-8796-2c2519106b6f",
   "metadata": {},
   "outputs": [],
   "source": []
  },
  {
   "cell_type": "markdown",
   "id": "e4c6a5fa-e19d-4896-97b1-c0592f23aa21",
   "metadata": {},
   "source": [
    "### Exporting your conda environment to yml for snakemake"
   ]
  },
  {
   "cell_type": "raw",
   "id": "f5041fd5-8052-4d02-9d42-52311432dfd3",
   "metadata": {},
   "source": [
    "mamba env export > environment.yml\n",
    "# after adding a new file\n",
    "mamba env update --file environment.yml --prune"
   ]
  },
  {
   "cell_type": "code",
   "execution_count": null,
   "id": "1498c1c6-4c21-48ff-8620-ff7077a7a411",
   "metadata": {},
   "outputs": [],
   "source": []
  },
  {
   "cell_type": "code",
   "execution_count": null,
   "id": "d3ed404d-be92-41cb-86d0-05b41489f6c6",
   "metadata": {},
   "outputs": [],
   "source": []
  }
 ],
 "metadata": {
  "kernelspec": {
   "display_name": "Python 3 (ipykernel)",
   "language": "python",
   "name": "python3"
  },
  "language_info": {
   "codemirror_mode": {
    "name": "ipython",
    "version": 3
   },
   "file_extension": ".py",
   "mimetype": "text/x-python",
   "name": "python",
   "nbconvert_exporter": "python",
   "pygments_lexer": "ipython3",
   "version": "3.12.4"
  }
 },
 "nbformat": 4,
 "nbformat_minor": 5
}
