{
 "cells": [
  {
   "cell_type": "markdown",
   "id": "84397383-44a3-442c-9a71-d01f31a9d117",
   "metadata": {},
   "source": [
    "# Welcome to the Comparative Genomics Bootcamp!\n",
    "\n",
    "\n",
    "* In this tutorial, we will go through an example analysis that will teach you basic tools in comparative genomics and many other sequence-based areas of bioinformatics.\n",
    "\n",
    "* Before we start, this tutorial will assume that you are familiar with the Bash shell that is used to navigate Linux-based environments. If you need a crash course, take a look at this **[Bash Bootcamp](http://korflab.ucdavis.edu/bootcamp.html)** by Keith Bradnam.\n",
    "\n",
    "* This tutorial will be presented in the format of multiple [Jupyter Notebooks](https://jupyter.org/). In principle, you don't need to know any programming languages to follow this tutorial. However, a basic knowledge of any general purpose language like Python will help you with many downstream analyses of your results. If you want to get started with Python, here is a great **[free tutorial for python](https://github.com/burkesquires/python_biologist/tree/master)** by Burke Squires. "
   ]
  },
  {
   "cell_type": "markdown",
   "id": "64259a08-33b6-403b-be00-fd019a99298f",
   "metadata": {},
   "source": [
    "## Setting up your computer environment\n",
    "\n",
    "### For Windows users\n",
    "\n",
    "Many tools used in Bioinformatics are only available in GNU/Linux environments (including MacOS). Windows users should therefore follow this tutorial using a Windows Subsystem for Linux (WSL), for example with the **[Ubuntu for Windows](https://ubuntu.com/desktop/wsl)** distribution.\n",
    "\n",
    "### Mamba\n",
    "\n",
    "<img src=\"docs/mamba_logo.png\" width=\"300\"/>\n",
    "\n",
    "[Mamba](https://mamba.readthedocs.io/en/latest/installation/mamba-installation.html) is fast and lightweight version of the popular [Anaconda](https://www.anaconda.com/) package manager. You can install most packages with Anaconda and therefore also with Mamba. Whenever you see a `conda` command in the installation instructions of a package, just use the `mamba` keyword instead to make the installation faster.\n",
    "\n",
    "- Step 1: If not already present, install Mamba on your computer system following **[these instrucions](https://anaconda.org/conda-forge/mamba)**\n",
    "- Step 2: Open a terminal and navigate to this directory with the `enironment.yml` file\n",
    "- Step 3: Create a Mamba environment that creates all the packages that you need for this tutorial: `mamba env create -n cg_bootcamp -f environment.yml`\n",
    "- Step 4: Activate the environment: `mamba activate cg_bootcamp`"
   ]
  }
 ],
 "metadata": {
  "kernelspec": {
   "display_name": "Python 3 (ipykernel)",
   "language": "python",
   "name": "python3"
  },
  "language_info": {
   "codemirror_mode": {
    "name": "ipython",
    "version": 3
   },
   "file_extension": ".py",
   "mimetype": "text/x-python",
   "name": "python",
   "nbconvert_exporter": "python",
   "pygments_lexer": "ipython3",
   "version": "3.12.4"
  }
 },
 "nbformat": 4,
 "nbformat_minor": 5
}
