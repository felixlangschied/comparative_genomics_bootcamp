{
 "cells": [
  {
   "cell_type": "markdown",
   "id": "7e78e21e-d690-4031-88d4-b0bc0d2e6fab",
   "metadata": {},
   "source": [
    "## Let there be data\n",
    "\n",
    "In this tutorial, we will track the evolutionary trajectory of the human ${\\beta}$-hemoglobin in tetrapods. \n",
    "\n",
    "<img src=\"../../docs/Structure-of-Hemoglobin.jpeg\" style=\"margin:auto\" width=\"500\"/>\n",
    "\n",
    "\\\n",
    "To do this, we first need the (protein) **sequence of the human ${\\beta}$-hemoglobin**. Other than that, we will also need a **set of tetrapods** in which we want to search for ${\\beta}$-hemoglobin related sequences. The number of taxa that we include in our search will increase the resolution of our analysis, but it will also increase the computational overhead of the search and all downstream analyses. We should also keep in mind that including low quality datasets will increase the amount of noise in our observations. The quality of a gene set depends on many factors, most notably the quality of the DNA sample, the genome assembly and the gene precition. \n",
    "\n",
    "Large-scale sequencing efforts, subsumed in the [Earth BioGenome Project](https://www.earthbiogenome.org/), have lead to rich catalogues of sequenced genomes. The two most popular databases for not only genome assemblies but also for annotated gene sets are [Ensembl](https://www.ensembl.org/index.html) and [NCBI Refseq](https://www.ncbi.nlm.nih.gov/refseq/). Another popular ressource for protein sequences and annotations is [UniProt](https://www.uniprot.org/). \n",
    "\n",
    "In this tutorial we will download data from **NCBI Refseq** using the [NCBI Datasets API](https://www.ncbi.nlm.nih.gov/datasets/). "
   ]
  },
  {
   "cell_type": "markdown",
   "id": "cd6e717c-16a9-4bf4-8107-2d11157f7cb0",
   "metadata": {},
   "source": [
    "## NCBI Datasets\n",
    "\n",
    "We have selected a set of 10 tetrapods with which we will perform our example comparative genomics study. For each of these taxa, we identified the genome assembly is flagged as the \"representative assembly\" (take a look at the optional S1_1 notebook to see how). The Accession number is a unique identifier for a RefSeq genome assembly."
   ]
  },
  {
   "cell_type": "code",
   "execution_count": 3,
   "id": "aa41bee4-e9dc-4a69-bd44-7556457b7e4a",
   "metadata": {},
   "outputs": [
    {
     "data": {
      "text/html": [
       "<div>\n",
       "<style scoped>\n",
       "    .dataframe tbody tr th:only-of-type {\n",
       "        vertical-align: middle;\n",
       "    }\n",
       "\n",
       "    .dataframe tbody tr th {\n",
       "        vertical-align: top;\n",
       "    }\n",
       "\n",
       "    .dataframe thead th {\n",
       "        text-align: right;\n",
       "    }\n",
       "</style>\n",
       "<table border=\"1\" class=\"dataframe\">\n",
       "  <thead>\n",
       "    <tr style=\"text-align: right;\">\n",
       "      <th></th>\n",
       "      <th>Name</th>\n",
       "      <th>Common_name</th>\n",
       "      <th>Accession</th>\n",
       "    </tr>\n",
       "  </thead>\n",
       "  <tbody>\n",
       "    <tr>\n",
       "      <th>0</th>\n",
       "      <td>Homo_sapiens</td>\n",
       "      <td>human</td>\n",
       "      <td>GCF_000001405.40</td>\n",
       "    </tr>\n",
       "    <tr>\n",
       "      <th>1</th>\n",
       "      <td>Macaca_mulatta</td>\n",
       "      <td>Rhesus monkey</td>\n",
       "      <td>GCF_003339765.1</td>\n",
       "    </tr>\n",
       "    <tr>\n",
       "      <th>2</th>\n",
       "      <td>Mus_musculus</td>\n",
       "      <td>house mouse</td>\n",
       "      <td>GCF_000001635.27</td>\n",
       "    </tr>\n",
       "    <tr>\n",
       "      <th>3</th>\n",
       "      <td>Canis_lupus_familiaris</td>\n",
       "      <td>dog</td>\n",
       "      <td>GCF_011100685.1</td>\n",
       "    </tr>\n",
       "    <tr>\n",
       "      <th>4</th>\n",
       "      <td>Equus_caballus</td>\n",
       "      <td>horse</td>\n",
       "      <td>GCF_002863925.1</td>\n",
       "    </tr>\n",
       "    <tr>\n",
       "      <th>5</th>\n",
       "      <td>Pipistrellus kuhlii</td>\n",
       "      <td>Kuhl's pipistrelle</td>\n",
       "      <td>GCF_014108245.1</td>\n",
       "    </tr>\n",
       "    <tr>\n",
       "      <th>6</th>\n",
       "      <td>Bos_taurus</td>\n",
       "      <td>cattle</td>\n",
       "      <td>GCF_002263795.3</td>\n",
       "    </tr>\n",
       "    <tr>\n",
       "      <th>7</th>\n",
       "      <td>Loxodonta_africana</td>\n",
       "      <td>African savanna elephant</td>\n",
       "      <td>GCF_030014295.1</td>\n",
       "    </tr>\n",
       "    <tr>\n",
       "      <th>8</th>\n",
       "      <td>Gallus_gallus</td>\n",
       "      <td>chicken</td>\n",
       "      <td>GCF_016699485.2</td>\n",
       "    </tr>\n",
       "    <tr>\n",
       "      <th>9</th>\n",
       "      <td>Xenopus_tropicalis</td>\n",
       "      <td>tropical clawed frog</td>\n",
       "      <td>GCF_000004195.4</td>\n",
       "    </tr>\n",
       "  </tbody>\n",
       "</table>\n",
       "</div>"
      ],
      "text/plain": [
       "                     Name               Common_name         Accession\n",
       "0            Homo_sapiens                     human  GCF_000001405.40\n",
       "1          Macaca_mulatta             Rhesus monkey   GCF_003339765.1\n",
       "2            Mus_musculus               house mouse  GCF_000001635.27\n",
       "3  Canis_lupus_familiaris                       dog   GCF_011100685.1\n",
       "4          Equus_caballus                     horse   GCF_002863925.1\n",
       "5     Pipistrellus kuhlii        Kuhl's pipistrelle   GCF_014108245.1\n",
       "6              Bos_taurus                    cattle   GCF_002263795.3\n",
       "7      Loxodonta_africana  African savanna elephant   GCF_030014295.1\n",
       "8           Gallus_gallus                   chicken   GCF_016699485.2\n",
       "9      Xenopus_tropicalis      tropical clawed frog   GCF_000004195.4"
      ]
     },
     "metadata": {},
     "output_type": "display_data"
    }
   ],
   "source": [
    "import pandas as pd\n",
    "\n",
    "taxdf = pd.read_csv('data/taxa_overview.tsv', sep='\\t')\n",
    "display(taxdf)"
   ]
  },
  {
   "cell_type": "markdown",
   "id": "440dd24a-e323-4c4a-a7f3-252a0e9e3733",
   "metadata": {},
   "source": [
    "We want to download the protein set for each of our 10 tetrapods using the Accession number. Take a look at the [NCBI Dataset Documentation](https://www.ncbi.nlm.nih.gov/datasets/docs/v2/download-and-install/) and see if you can figure out the command for this. Open a terminal window to try out your command once you're ready (make sure that you are in the cg_bootcamp mamba environment)"
   ]
  },
  {
   "cell_type": "code",
   "execution_count": null,
   "id": "f19e8bef-5e16-47a6-9f10-803909494d04",
   "metadata": {},
   "outputs": [],
   "source": [
    "# python playground\n",
    "\n"
   ]
  },
  {
   "cell_type": "markdown",
   "id": "1262833f-a95f-4d40-8293-cccfc136df82",
   "metadata": {
    "jp-MarkdownHeadingCollapsed": true
   },
   "source": [
    "### Spoiler: Solution"
   ]
  },
  {
   "cell_type": "code",
   "execution_count": 7,
   "id": "e1ca46c5-c00b-4a39-be6a-790e8c4a6421",
   "metadata": {},
   "outputs": [
    {
     "name": "stdout",
     "output_type": "stream",
     "text": [
      "datasets download genome accession GCF_000001405.40 GCF_003339765.1 GCF_000001635.27 GCF_011100685.1 GCF_002863925.1 GCF_014108245.1 GCF_002263795.3 GCF_030014295.1 GCF_016699485.2 GCF_000004195.4 --include protein --filename cg_tetrapods\n"
     ]
    }
   ],
   "source": [
    "accs = taxdf.Accession.to_list()\n",
    "acc_string = ' '.join(accs)\n",
    "\n",
    "cmd = f'datasets download genome accession {acc_string} --include protein --filename cg_tetrapods'\n",
    "print(cmd)"
   ]
  }
 ],
 "metadata": {
  "kernelspec": {
   "display_name": "Python 3 (ipykernel)",
   "language": "python",
   "name": "python3"
  },
  "language_info": {
   "codemirror_mode": {
    "name": "ipython",
    "version": 3
   },
   "file_extension": ".py",
   "mimetype": "text/x-python",
   "name": "python",
   "nbconvert_exporter": "python",
   "pygments_lexer": "ipython3",
   "version": "3.12.4"
  }
 },
 "nbformat": 4,
 "nbformat_minor": 5
}
