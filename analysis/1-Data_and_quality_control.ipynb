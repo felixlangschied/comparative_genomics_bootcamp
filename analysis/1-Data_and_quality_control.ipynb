{
 "cells": [
  {
   "cell_type": "markdown",
   "id": "7e78e21e-d690-4031-88d4-b0bc0d2e6fab",
   "metadata": {},
   "source": [
    "## Let there be data\n",
    "\n",
    "In this tutorial, we will track the evolutionary trajectory of the human ${\\beta}$-hemoglobin in tetrapods. \n",
    "\n",
    "<img src=\"docs/Structure-of-Hemoglobin.jpeg\" style=\"margin:auto\" width=\"500\"/>\n",
    "\n",
    "\\\n",
    "To do this, we first need the (protein) **sequence of the human ${\\beta}$-hemoglobin**. Other than that, we will also need a **set of tetrapods** in which we want to search for ${\\beta}$-hemoglobin related sequences. The number of taxa that we include in our search will increase the resolution of our analysis, but it will also increase the computational overhead of the search and all downstream analyses. We should also keep in mind that including low quality datasets will increase the amount of noise in our observations. The quality of a gene set depends on many factors, most notably the quality of the DNA sample, the genome assembly and the gene precition. \n",
    "\n",
    "Large-scale sequencing efforts, subsumed in the [Earth BioGenome Project](https://www.earthbiogenome.org/), have lead to rich catalogues of sequenced genomes. The two most popular databases for not only genome assemblies but also for annotated gene sets are [Ensembl](https://www.ensembl.org/index.html) and [NCBI Refseq](https://www.ncbi.nlm.nih.gov/refseq/). Another popular ressource for protein sequences and annotations is [UniProt](https://www.uniprot.org/). \n",
    "\n",
    "In this tutorial we will download data from **NCBI Refseq** using the [NCBI Datasets API](https://www.ncbi.nlm.nih.gov/datasets/). "
   ]
  },
  {
   "cell_type": "markdown",
   "id": "cd6e717c-16a9-4bf4-8107-2d11157f7cb0",
   "metadata": {},
   "source": [
    "## NCBI Datasets\n",
    "\n"
   ]
  },
  {
   "cell_type": "code",
   "execution_count": null,
   "id": "aa41bee4-e9dc-4a69-bd44-7556457b7e4a",
   "metadata": {},
   "outputs": [],
   "source": [
    "\n"
   ]
  }
 ],
 "metadata": {
  "kernelspec": {
   "display_name": "Python 3 (ipykernel)",
   "language": "python",
   "name": "python3"
  },
  "language_info": {
   "codemirror_mode": {
    "name": "ipython",
    "version": 3
   },
   "file_extension": ".py",
   "mimetype": "text/x-python",
   "name": "python",
   "nbconvert_exporter": "python",
   "pygments_lexer": "ipython3",
   "version": "3.12.4"
  }
 },
 "nbformat": 4,
 "nbformat_minor": 5
}
